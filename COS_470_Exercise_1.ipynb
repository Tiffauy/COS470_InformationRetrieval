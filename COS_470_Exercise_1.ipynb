{
  "nbformat": 4,
  "nbformat_minor": 0,
  "metadata": {
    "colab": {
      "provenance": [],
      "collapsed_sections": []
    },
    "kernelspec": {
      "name": "python3",
      "display_name": "Python 3"
    },
    "language_info": {
      "name": "python"
    }
  },
  "cells": [
    {
      "cell_type": "markdown",
      "source": [
        "# Exercise 1: Python Basics"
      ],
      "metadata": {
        "id": "iuOirgIf2GXJ"
      }
    },
    {
      "cell_type": "markdown",
      "source": [
        "# Part 1: Print odd numbers between 0 and 100 inclusive."
      ],
      "metadata": {
        "id": "FUDAq3kA7iG2"
      }
    },
    {
      "cell_type": "code",
      "execution_count": 1,
      "metadata": {
        "id": "zpb2-A5QrtmY",
        "colab": {
          "base_uri": "https://localhost:8080/"
        },
        "outputId": "d6fba4f5-7901-4f0f-cd88-4b16e933ba24"
      },
      "outputs": [
        {
          "output_type": "stream",
          "name": "stdout",
          "text": [
            "1, 3, 5, 7, 9, 11, 13, 15, 17, 19, 21, 23, 25, 27, 29, 31, 33, 35, 37, 39, 41, 43, 45, 47, 49, 51, 53, 55, 57, 59, 61, 63, 65, 67, 69, 71, 73, 75, 77, 79, 81, 83, 85, 87, 89, 91, 93, 95, 97, 99, "
          ]
        }
      ],
      "source": [
        "# Printing odd numbers 0 - 100.\n",
        "for x in range(0, 100+1):\n",
        "  if(x % 2) == 1:\n",
        "    print(x, end=\", \")"
      ]
    },
    {
      "cell_type": "markdown",
      "source": [
        "# Part 2: Even Summation between start and end"
      ],
      "metadata": {
        "id": "rJcSo8TW7bmJ"
      }
    },
    {
      "cell_type": "code",
      "source": [
        "def even_summation(start, end):\n",
        "  \"\"\"\n",
        "  This function takes in two numbers and returns the summation\n",
        "  of all even integers in range.\n",
        "  ARGS:\n",
        "    @start:   start of the range\n",
        "    @end:     end of the range\n",
        "  RETURNS:\n",
        "    @sum:     Summation of even numbers in [start, end]\n",
        "  \"\"\"\n",
        "  sum = 0\n",
        "  for x in range(start, end+1):\n",
        "    if(x % 2) == 0:\n",
        "      sum += x\n",
        "  return sum\n",
        "\n",
        "print(even_summation(4, 10))"
      ],
      "metadata": {
        "colab": {
          "base_uri": "https://localhost:8080/"
        },
        "id": "S8iHnaIa6wOV",
        "outputId": "221496f5-a542-4fb4-ab99-8367302ab64a"
      },
      "execution_count": 2,
      "outputs": [
        {
          "output_type": "stream",
          "name": "stdout",
          "text": [
            "28\n"
          ]
        }
      ]
    },
    {
      "cell_type": "markdown",
      "source": [
        "# Part 3: List and functions"
      ],
      "metadata": {
        "id": "UqVy8vnr8IX1"
      }
    },
    {
      "cell_type": "markdown",
      "source": [
        "A. Defined an empty list and added 10 random numbers."
      ],
      "metadata": {
        "id": "WJJ8cjwT86nb"
      }
    },
    {
      "cell_type": "code",
      "source": [
        "import random\n",
        "a = [] # empty list\n",
        "# getting 10 random numbers\n",
        "for x in range(10):\n",
        "  a.append(random.randint(1, 101))\n",
        "\n",
        "print(a)"
      ],
      "metadata": {
        "colab": {
          "base_uri": "https://localhost:8080/"
        },
        "id": "dJwQqOz78Hj7",
        "outputId": "c5fba16c-55a8-44eb-fdbe-acb163b99c80"
      },
      "execution_count": 3,
      "outputs": [
        {
          "output_type": "stream",
          "name": "stdout",
          "text": [
            "[90, 28, 55, 98, 94, 43, 86, 36, 95, 39]\n"
          ]
        }
      ]
    },
    {
      "cell_type": "markdown",
      "source": [
        "B. Printing the maximum of the list."
      ],
      "metadata": {
        "id": "lMQJb_3f9Bfd"
      }
    },
    {
      "cell_type": "code",
      "source": [
        "print(\"The max of the list is\", max(a))"
      ],
      "metadata": {
        "colab": {
          "base_uri": "https://localhost:8080/"
        },
        "id": "oa9BkSjv9GWj",
        "outputId": "b6b52075-3aca-4e7c-97f2-c70fcdd87534"
      },
      "execution_count": 4,
      "outputs": [
        {
          "output_type": "stream",
          "name": "stdout",
          "text": [
            "The max of the list is 98\n"
          ]
        }
      ]
    },
    {
      "cell_type": "markdown",
      "source": [
        "C. Printing the minimum of the list."
      ],
      "metadata": {
        "id": "18Z30bUz9I5s"
      }
    },
    {
      "cell_type": "code",
      "source": [
        "print(\"The min of the list is\", min(a))"
      ],
      "metadata": {
        "colab": {
          "base_uri": "https://localhost:8080/"
        },
        "id": "nTXdQIyu9LQR",
        "outputId": "4ff118ba-2180-4295-e466-8052ebff4842"
      },
      "execution_count": 5,
      "outputs": [
        {
          "output_type": "stream",
          "name": "stdout",
          "text": [
            "The min of the list is 28\n"
          ]
        }
      ]
    },
    {
      "cell_type": "markdown",
      "source": [
        "D. Sorting the list."
      ],
      "metadata": {
        "id": "bWuipXiD9WBI"
      }
    },
    {
      "cell_type": "code",
      "source": [
        "a.sort()\n",
        "print(a)"
      ],
      "metadata": {
        "colab": {
          "base_uri": "https://localhost:8080/"
        },
        "id": "px5eSvBv9YuF",
        "outputId": "e05ddd8f-00cf-4f0e-e0f9-71aad5ef835f"
      },
      "execution_count": 6,
      "outputs": [
        {
          "output_type": "stream",
          "name": "stdout",
          "text": [
            "[28, 36, 39, 43, 55, 86, 90, 94, 95, 98]\n"
          ]
        }
      ]
    },
    {
      "cell_type": "markdown",
      "source": [
        "E. Randomly shuffle the list."
      ],
      "metadata": {
        "id": "pXTtZk-Y9g8U"
      }
    },
    {
      "cell_type": "code",
      "source": [
        "random.shuffle(a)\n",
        "print(a)"
      ],
      "metadata": {
        "colab": {
          "base_uri": "https://localhost:8080/"
        },
        "id": "rZUVux9u9j1o",
        "outputId": "53b1257f-1b6e-4ce9-aba4-bfe1a0154bc2"
      },
      "execution_count": 7,
      "outputs": [
        {
          "output_type": "stream",
          "name": "stdout",
          "text": [
            "[36, 90, 94, 43, 28, 55, 95, 39, 86, 98]\n"
          ]
        }
      ]
    },
    {
      "cell_type": "markdown",
      "source": [
        "F. Run the sort part with \"Run the focused cell\""
      ],
      "metadata": {
        "id": "0xP0a6Rs9oDS"
      }
    },
    {
      "cell_type": "code",
      "source": [
        "a.sort()\n",
        "print(a)"
      ],
      "metadata": {
        "id": "QLvjmOwY9s5T",
        "colab": {
          "base_uri": "https://localhost:8080/"
        },
        "outputId": "12cbb7b1-e1d0-4703-cde4-7e7ca2076498"
      },
      "execution_count": 8,
      "outputs": [
        {
          "output_type": "stream",
          "name": "stdout",
          "text": [
            "[28, 36, 39, 43, 55, 86, 90, 94, 95, 98]\n"
          ]
        }
      ]
    },
    {
      "cell_type": "markdown",
      "source": [
        "# Part 4: Define a dictionary."
      ],
      "metadata": {
        "id": "iFpDP5aJTNem"
      }
    },
    {
      "cell_type": "code",
      "source": [
        "b = {'a':1, 'd':4, 'b':2, 'c':3}\n",
        "print(b)"
      ],
      "metadata": {
        "id": "LO4vhaQVTfIq",
        "colab": {
          "base_uri": "https://localhost:8080/"
        },
        "outputId": "fce1b4d6-a437-4a17-f4a1-a63be8fe3fdc"
      },
      "execution_count": 9,
      "outputs": [
        {
          "output_type": "stream",
          "name": "stdout",
          "text": [
            "{'a': 1, 'd': 4, 'b': 2, 'c': 3}\n"
          ]
        }
      ]
    },
    {
      "cell_type": "markdown",
      "source": [
        "A. Sort the dictionary by keys."
      ],
      "metadata": {
        "id": "AsaPyjoWTc7J"
      }
    },
    {
      "cell_type": "code",
      "source": [
        "from collections import OrderedDict\n",
        "c = OrderedDict(sorted(b.items()))\n",
        "print(c)"
      ],
      "metadata": {
        "id": "Sz4qQneKTmAl",
        "colab": {
          "base_uri": "https://localhost:8080/"
        },
        "outputId": "e63d9219-ac7f-4dc9-ea0a-6b5551492b0d"
      },
      "execution_count": 10,
      "outputs": [
        {
          "output_type": "stream",
          "name": "stdout",
          "text": [
            "OrderedDict([('a', 1), ('b', 2), ('c', 3), ('d', 4)])\n"
          ]
        }
      ]
    },
    {
      "cell_type": "markdown",
      "source": [
        "B. Sort the dictionary by values in descending order."
      ],
      "metadata": {
        "id": "sQq68ZvQUeEv"
      }
    },
    {
      "cell_type": "code",
      "source": [
        "c = sorted(b.items(), key=lambda x: x[1], reverse=True)\n",
        "print(c)"
      ],
      "metadata": {
        "id": "dNCIRxtAUdZb",
        "colab": {
          "base_uri": "https://localhost:8080/"
        },
        "outputId": "e7e910f7-9ad3-4203-eb0c-3efd667f522d"
      },
      "execution_count": 11,
      "outputs": [
        {
          "output_type": "stream",
          "name": "stdout",
          "text": [
            "[('d', 4), ('c', 3), ('b', 2), ('a', 1)]\n"
          ]
        }
      ]
    },
    {
      "cell_type": "markdown",
      "source": [
        "C. Add new tuple to the dictionary {'e': 5}"
      ],
      "metadata": {
        "id": "pffE8N5mVJP0"
      }
    },
    {
      "cell_type": "code",
      "source": [
        "b.update({'e':5})\n",
        "print(b)"
      ],
      "metadata": {
        "id": "tVha2MU3VInp",
        "colab": {
          "base_uri": "https://localhost:8080/"
        },
        "outputId": "d8150141-590a-4ee4-ab1d-f99f332fb587"
      },
      "execution_count": 12,
      "outputs": [
        {
          "output_type": "stream",
          "name": "stdout",
          "text": [
            "{'a': 1, 'd': 4, 'b': 2, 'c': 3, 'e': 5}\n"
          ]
        }
      ]
    }
  ]
}