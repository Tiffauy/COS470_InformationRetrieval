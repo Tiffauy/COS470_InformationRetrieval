{
  "nbformat": 4,
  "nbformat_minor": 0,
  "metadata": {
    "colab": {
      "provenance": [],
      "authorship_tag": "ABX9TyOMl+e5vM0zrlHUBr5hh8N8",
      "include_colab_link": true
    },
    "kernelspec": {
      "name": "python3",
      "display_name": "Python 3"
    },
    "language_info": {
      "name": "python"
    }
  },
  "cells": [
    {
      "cell_type": "markdown",
      "metadata": {
        "id": "view-in-github",
        "colab_type": "text"
      },
      "source": [
        "<a href=\"https://colab.research.google.com/github/Tiffauy/COS470_InformationRetrieval/blob/main/COS_470_Question2.ipynb\" target=\"_parent\"><img src=\"https://colab.research.google.com/assets/colab-badge.svg\" alt=\"Open In Colab\"/></a>"
      ]
    },
    {
      "cell_type": "markdown",
      "source": [
        "# COS 470 - Assignment 1 Question 2"
      ],
      "metadata": {
        "id": "7it2RC67naQT"
      }
    },
    {
      "cell_type": "code",
      "execution_count": null,
      "metadata": {
        "id": "1R6x6SxMm_U4"
      },
      "outputs": [],
      "source": [
        "from post_parser_record import PostParserRecord\n",
        "post_reader = PostParserRecord(\"Posts_Coffee.xml\")\n",
        "import numpy as np \n",
        "from matplotlib import pyplot as plt "
      ]
    },
    {
      "cell_type": "code",
      "source": [
        "# regex\n",
        "import re, string\n",
        "# empty dict\n",
        "word_dict = {}\n",
        "#questions\n",
        "for answer_id in post_reader.map_questions:\n",
        "  # get question\n",
        "  question = (post_reader.map_questions[answer_id].title + \" \" + post_reader.map_questions[answer_id].body)\n",
        "  # tokenize, regex\n",
        "  token_words = re.sub(\"<.*?>|\\\\n|&quot;\", \" \", question.lower())\n",
        "  token_words = token_words.translate(str.maketrans('', '', string.punctuation)).split(\" \")\n",
        "\n",
        "  #going through all the words\n",
        "  for word in token_words:\n",
        "    if word in word_dict:\n",
        "      docs = word_dict[word]\n",
        "      if answer_id not in docs:\n",
        "        docs.append(answer_id)\n",
        "      word_dict[word] = docs\n",
        "    else:\n",
        "      docs = [answer_id]\n",
        "      word_dict[word] = docs\n",
        "\n",
        "# answers\n",
        "for answer_id in post_reader.map_just_answers:\n",
        "  # get question\n",
        "  answer = post_reader.map_just_answers[answer_id].body\n",
        "  # tokenize, regex\n",
        "  token_words = re.sub(\"<.*?>|\\\\n|&quot;\", \" \", answer.lower())\n",
        "  token_words = token_words.translate(str.maketrans('', '', string.punctuation)).split(\" \")\n",
        "\n",
        "  #going through all the words\n",
        "  for word in token_words:\n",
        "    if word in word_dict:\n",
        "      docs = word_dict[word]\n",
        "      if answer_id not in docs:\n",
        "        docs.append(answer_id)\n",
        "      word_dict[word] = docs\n",
        "    else:\n",
        "      docs = [answer_id]\n",
        "      word_dict[word] = docs"
      ],
      "metadata": {
        "id": "YnH65imMnKDH"
      },
      "execution_count": null,
      "outputs": []
    },
    {
      "cell_type": "code",
      "source": [
        "# Espresso\n",
        "espresso = set(word_dict['espresso'])\n",
        "print(\"Espresso: \" + str(espresso))\n",
        "\n",
        "# Turkish & Coffee\n",
        "turkish = set(word_dict['turkish'])\n",
        "coffee = set(word_dict['coffee'])\n",
        "print(\"Turkish & Coffee: \" + str(sorted(turkish & coffee)))\n",
        "\n",
        "# Turkish | Coffee\n",
        "turkish = set(word_dict['turkish'])\n",
        "coffee = set(word_dict['coffee'])\n",
        "print(\"Turkish & Coffee: \" + str(sorted(turkish | coffee)))\n",
        "\n",
        "# Persion but not Coffee\n",
        "turkish = set(word_dict['turkish'])\n",
        "coffee = set(word_dict['coffee'])\n",
        "print(\"Turkish & Coffee: \" + str(sorted(coffee - turkish)))\n"
      ],
      "metadata": {
        "id": "7uRqekQTnM5v"
      },
      "execution_count": null,
      "outputs": []
    },
    {
      "cell_type": "markdown",
      "source": [
        "Part B - Graphs"
      ],
      "metadata": {
        "id": "St6CMrnJnWi3"
      }
    },
    {
      "cell_type": "code",
      "source": [
        "# Espresso Graph:\n",
        "plt.title(\"Espresso\")\n",
        "plt.xlabel(\"Recall\")\n",
        "plt.ylabel(\"Precision\")\n",
        "plt.ylim(0, 1.2)\n",
        "plt.xlim(0, 1.2)\n",
        "\n",
        "# blue table (using two arrays, one for x one for y)\n",
        "blue_data_x = [0.33, 0.67, 0.67, 0.67, 0.67, 0.67, 0.67, 0.67, 1, 1]\n",
        "blue_data_y = [1, 1, 0.66, 0.5, 0.4, 0.33, 0.29, 0.25, 0.33, 0.3]\n",
        "plt.plot(blue_data_x, blue_data_y, color=\"Blue\")\n",
        "plt.plot(blue_data_x, blue_data_y, 'r*', color=\"Blue\")\n",
        "\n",
        "plt.show()"
      ],
      "metadata": {
        "id": "jp2HwJcCnRJh"
      },
      "execution_count": null,
      "outputs": []
    },
    {
      "cell_type": "code",
      "source": [
        "# Turkish & Coffee Graph:\n",
        "plt.title(\"Turkish & Coffee\")\n",
        "plt.xlabel(\"Recall\")\n",
        "plt.ylabel(\"Precision\")\n",
        "plt.ylim(0, 1.2)\n",
        "plt.xlim(0, 1.2)\n",
        "\n",
        "# blue table (using two arrays, one for x one for y)\n",
        "blue_data_x = [0.2, 0.4, 0.4, 0.4, 0.6, 0.8, 1.0, 1.0, 1.0, 1.0]\n",
        "blue_data_y = [1, 1, 0.66, 0.5, 0.6, 0.67, 0.71, 0.63, 0.56, 0.5]\n",
        "plt.plot(blue_data_x, blue_data_y, color=\"Purple\")\n",
        "plt.plot(blue_data_x, blue_data_y, 'r*', color=\"Purple\")\n",
        "\n",
        "plt.show()"
      ],
      "metadata": {
        "id": "KvRFk6fPnSWe"
      },
      "execution_count": null,
      "outputs": []
    },
    {
      "cell_type": "code",
      "source": [
        "# Turkish | Coffee Graph:\n",
        "plt.title(\"Turkish | Coffee\")\n",
        "plt.xlabel(\"Recall\")\n",
        "plt.ylabel(\"Precision\")\n",
        "plt.ylim(0, 1.2)\n",
        "plt.xlim(0, 1.2)\n",
        "\n",
        "# blue table (using two arrays, one for x one for y)\n",
        "blue_data_x = [0, 0, 0, 0, 0, 0, 0, 0, 0, 0]\n",
        "blue_data_y = [0, 0, 0, 0, 0, 0, 0, 0, 0, 0]\n",
        "plt.plot(blue_data_x, blue_data_y, color=\"Orange\")\n",
        "plt.plot(blue_data_x, blue_data_y, 'r*', color=\"Orange\")\n",
        "\n",
        "plt.show()"
      ],
      "metadata": {
        "id": "kTDA5qjXnTUd"
      },
      "execution_count": null,
      "outputs": []
    },
    {
      "cell_type": "code",
      "source": [
        "# -Persian & Coffee Graph:\n",
        "plt.title(\"-Persian & Coffee\")\n",
        "plt.xlabel(\"Recall\")\n",
        "plt.ylabel(\"Precision\")\n",
        "plt.ylim(0, 1.2)\n",
        "plt.xlim(0, 1.2)\n",
        "\n",
        "# blue table (using two arrays, one for x one for y)\n",
        "blue_data_x = [0, 0.25, 0.25, 0.25, 0.25, 0.25, 0.5, 0.75, 1.0, 1.0]\n",
        "blue_data_y = [0, 0.5, 0.33, 0.25, 0.2, 0.17, 0.29, 0.375, 0.44, 0.4]\n",
        "plt.plot(blue_data_x, blue_data_y, color=\"Orange\")\n",
        "plt.plot(blue_data_x, blue_data_y, 'r*', color=\"Orange\")\n",
        "\n",
        "plt.show()"
      ],
      "metadata": {
        "id": "Q1mxqSfWnUZg"
      },
      "execution_count": null,
      "outputs": []
    }
  ]
}