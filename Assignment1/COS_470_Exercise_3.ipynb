{
  "nbformat": 4,
  "nbformat_minor": 0,
  "metadata": {
    "colab": {
      "provenance": [],
      "collapsed_sections": []
    },
    "kernelspec": {
      "name": "python3",
      "display_name": "Python 3"
    },
    "language_info": {
      "name": "python"
    }
  },
  "cells": [
    {
      "cell_type": "markdown",
      "source": [
        "# Exercise 3: Read TSV file with pandas library."
      ],
      "metadata": {
        "id": "S0DiBHC2HkS4"
      }
    },
    {
      "cell_type": "code",
      "source": [
        "!pip install pandas\n",
        "import pandas as pd"
      ],
      "metadata": {
        "id": "0PWXTr9xHcxn"
      },
      "execution_count": null,
      "outputs": []
    },
    {
      "cell_type": "code",
      "source": [
        "df = pd.read_table('/content/quotes.tsv')\n",
        "print(df)"
      ],
      "metadata": {
        "id": "qEAE1aocINCT"
      },
      "execution_count": null,
      "outputs": []
    },
    {
      "cell_type": "markdown",
      "source": [
        "A. How many quotes are from 'Alexandre Dumas'?"
      ],
      "metadata": {
        "id": "vhyQmoF0HxzX"
      }
    },
    {
      "cell_type": "code",
      "execution_count": null,
      "metadata": {
        "id": "MY-R3CaVHadK"
      },
      "outputs": [],
      "source": [
        "freq_authors = df['Author'].value_counts()\n",
        "print(\"The author 'Alexandre Dumas' has \" + str(freq_authors['Alexandre Dumas']) + \" quotes.\")"
      ]
    },
    {
      "cell_type": "markdown",
      "source": [
        "B. Who has the longest quote?"
      ],
      "metadata": {
        "id": "TEAsIyxgH0fG"
      }
    },
    {
      "cell_type": "code",
      "source": [
        "# divide quotes into a map with key as length\n",
        "quote_series = df.Quote.astype(str).map(len)\n",
        "# get author information based on quote\n",
        "author = df.loc[df['Quote'] == df.loc[quote_series.argmax(), 'Quote'], 'Author']\n",
        "print(\"The longest quote was by \" + author.iloc[0] + \".\")"
      ],
      "metadata": {
        "id": "pTuGnSbmH3DK"
      },
      "execution_count": null,
      "outputs": []
    },
    {
      "cell_type": "markdown",
      "source": [
        "C. In whose quote there is the word 'one'? Name the author(s)"
      ],
      "metadata": {
        "id": "opCSnrMoH3Ro"
      }
    },
    {
      "cell_type": "code",
      "source": [
        "# create series with true/false for songs that include 'one' or don't\n",
        "quote_series = df.Quote.str.contains('one', case=False)\n",
        "one_authors = set()\n",
        "\n",
        "for index, q in enumerate(quote_series):\n",
        "  if (q == True):\n",
        "    one_authors.add(df.loc[index, 'Author'])\n",
        "\n",
        "print(\"The authors with quotes that include the word 'one' are: \" + str(one_authors))"
      ],
      "metadata": {
        "id": "ghtyh6_3H5xY"
      },
      "execution_count": null,
      "outputs": []
    },
    {
      "cell_type": "markdown",
      "source": [
        "D. What are the most and least frequent words used in all the quotes?"
      ],
      "metadata": {
        "id": "CbiJRt86H5_v"
      }
    },
    {
      "cell_type": "code",
      "source": [
        "# join all the quotes together into one large string\n",
        "joined_quotes = ' '.join(df['Quote'])\n",
        "words = joined_quotes.split(\" \")\n",
        "print(\"The most repeated word is \\\"\" + max(set(words), key=words.count) + \"\\\".\")\n",
        "print(\"The least frequent word is \\\"\" + min(set(words), key=words.count) + \"\\\".\")"
      ],
      "metadata": {
        "id": "n3zUZd__H8Yg"
      },
      "execution_count": null,
      "outputs": []
    }
  ]
}