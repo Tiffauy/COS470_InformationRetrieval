{
  "nbformat": 4,
  "nbformat_minor": 0,
  "metadata": {
    "colab": {
      "provenance": []
    },
    "kernelspec": {
      "name": "python3",
      "display_name": "Python 3"
    },
    "language_info": {
      "name": "python"
    }
  },
  "cells": [
    {
      "cell_type": "markdown",
      "source": [
        "# Exercise 2: TF-IDF String manipulation"
      ],
      "metadata": {
        "id": "H8wf4CWHm15r"
      }
    },
    {
      "cell_type": "markdown",
      "source": [
        "In information retrieval, tf–idf (also TF*IDF, TFIDF, TF–IDF, or Tf–idf), short for term frequency–inverse document frequency, is a numerical statistic that is intended to reflect how important a word is to a document in a collection or corpus.[1] It is often used as a weighting factor in searches of information retrieval, text mining, and user modeling. The tf–idf value increases proportionally to the number of times a word appears in the document and is offset by the number of documents in the corpus that contain the word, which helps to adjust for the fact that some words appear more frequently in general. tf–idf is one of the most popular term-weighting schemes today. A survey conducted in 2015 showed that 83% of text-based recommender systems in digital libraries use tf–idf."
      ],
      "metadata": {
        "id": "Px_lyMqt-IQP"
      }
    },
    {
      "cell_type": "code",
      "source": [
        "# Turning pdb on\n",
        "#pdb off\n",
        "%pdb on"
      ],
      "metadata": {
        "colab": {
          "base_uri": "https://localhost:8080/"
        },
        "id": "T-KS-Aep-doc",
        "outputId": "fe54e21e-65d7-4c68-948a-ea71136f00aa"
      },
      "execution_count": null,
      "outputs": [
        {
          "output_type": "stream",
          "name": "stdout",
          "text": [
            "Automatic pdb calling has been turned ON\n"
          ]
        }
      ]
    },
    {
      "cell_type": "markdown",
      "source": [
        "A. Turn paragraph into a string.\n"
      ],
      "metadata": {
        "id": "y4zm4O4r-wCI"
      }
    },
    {
      "cell_type": "code",
      "source": [
        "tf_idf_string = \"\"\"\n",
        "In information retrieval, tf–idf (also TF*IDF, TFIDF, TF–IDF, or Tf–idf), short for term frequency–inverse document frequency, is a numerical statistic that is intended to reflect how important a word is to a document in a collection or corpus.[1] It is often used as a weighting factor in searches of information retrieval, text mining, and user modeling. The tf–idf value increases proportionally to the number of times a word appears in the document and is offset by the number of documents in the corpus that contain the word, which helps to adjust for the fact that some words appear more frequently in general. tf–idf is one of the most popular term-weighting schemes today. A survey conducted in 2015 showed that 83% of text-based recommender systems in digital libraries use tf–idf.\n",
        "\"\"\""
      ],
      "metadata": {
        "id": "8oW0tXCk-R6t"
      },
      "execution_count": null,
      "outputs": []
    },
    {
      "cell_type": "markdown",
      "source": [
        "B. Prints total number of words and the number of unique words."
      ],
      "metadata": {
        "id": "vxV8RJKE-zH1"
      }
    },
    {
      "cell_type": "code",
      "execution_count": null,
      "metadata": {
        "colab": {
          "base_uri": "https://localhost:8080/"
        },
        "id": "KD9q3ntJ99NB",
        "outputId": "be05b19e-4185-4e7b-beaa-958fe5343c5c"
      },
      "outputs": [
        {
          "output_type": "stream",
          "name": "stdout",
          "text": [
            "Total number of words is 102\n",
            "Total number of unique words is 67\n"
          ]
        }
      ],
      "source": [
        "# split tf_idf_string by delimiter \" \" into list\n",
        "words = tf_idf_string.split(\" \")\n",
        "print(\"Total number of words is\", len(words))\n",
        "print(\"Total number of unique words is\", len(set(words)))"
      ]
    },
    {
      "cell_type": "markdown",
      "source": [
        "C. Which word has the most frequency?"
      ],
      "metadata": {
        "id": "eTMWNwIB_mN9"
      }
    },
    {
      "cell_type": "code",
      "source": [
        "print(\"The most repeated word is \\\"\" + max(set(words), key=words.count) + \"\\\".\")"
      ],
      "metadata": {
        "colab": {
          "base_uri": "https://localhost:8080/"
        },
        "id": "YOIc2guc_pVY",
        "outputId": "f208a966-5082-41c8-8078-0aa2d0e4ba4d"
      },
      "execution_count": null,
      "outputs": [
        {
          "output_type": "stream",
          "name": "stdout",
          "text": [
            "The most repeated word is \"a\".\n"
          ]
        }
      ]
    },
    {
      "cell_type": "markdown",
      "source": [
        "D. Read the TFIDF.txt file as the string and test if you will get the same results."
      ],
      "metadata": {
        "id": "a6y5EY3mCVHO"
      }
    },
    {
      "cell_type": "code",
      "source": [
        "tfidf_txt = open(\"/content/TFIDF.txt\", \"r\")\n",
        "tf_idf_string = tfidf_txt.read()\n",
        "tfidf_txt.close()\n",
        "print(tf_idf_string)"
      ],
      "metadata": {
        "id": "hcvzEKt-Cjs8",
        "colab": {
          "base_uri": "https://localhost:8080/"
        },
        "outputId": "f29bd10a-3fbc-4fde-bb49-2722d5253664"
      },
      "execution_count": null,
      "outputs": [
        {
          "output_type": "stream",
          "name": "stdout",
          "text": [
            "In information retrieval, tf–idf (also TF*IDF, TFIDF, TF–IDF, or Tf–idf), short for term frequency–inverse document frequency, is a numerical statistic that is intended to reflect how important a word is to a document in a collection or corpus. It is often used as a weighting factor in searches of information retrieval, text mining, and user modeling. The tf–idf value increases proportionally to the number of times a word appears in the document and is offset by the number of documents in the corpus that contain the word, which helps to adjust for the fact that some words appear more frequently in general.\n"
          ]
        }
      ]
    },
    {
      "cell_type": "markdown",
      "source": [
        "Running previous code, part B produces different results. Copy and pasting had a number of 129 words and 86 unique words. The text file had 102 words and 67 unique words. Additionally, the text file version's frequency is the letter \"a\", as opposed to the copy paste's \"the\"."
      ],
      "metadata": {
        "id": "WJyZl9l4Foew"
      }
    },
    {
      "cell_type": "markdown",
      "source": [
        "E. Use NLTK to remove the stop-words. What is the most frequent word now?"
      ],
      "metadata": {
        "id": "kWALSUQyGOts"
      }
    },
    {
      "cell_type": "code",
      "source": [
        "import nltk\n",
        "nltk.download('stopwords')\n",
        "from nltk.corpus import stopwords"
      ],
      "metadata": {
        "colab": {
          "base_uri": "https://localhost:8080/"
        },
        "id": "L4DwbTTnGTxO",
        "outputId": "501fe040-99cb-4ed2-d032-294d3ec92369"
      },
      "execution_count": null,
      "outputs": [
        {
          "output_type": "stream",
          "name": "stdout",
          "text": [
            "['information', 'retrieval,', 'tf–idf', '(also', 'TF*IDF,', 'TFIDF,', 'TF–IDF,', 'Tf–idf),', 'short', 'term', 'frequency–inverse', 'document', 'frequency,', 'numerical', 'statistic', 'intended', 'reflect', 'important', 'word', 'document', 'collection', 'corpus.', 'often', 'used', 'weighting', 'factor', 'searches', 'information', 'retrieval,', 'text', 'mining,', 'user', 'modeling.', 'tf–idf', 'value', 'increases', 'proportionally', 'number', 'times', 'word', 'appears', 'document', 'offset', 'number', 'documents', 'corpus', 'contain', 'word,', 'helps', 'adjust', 'fact', 'words', 'appear', 'frequently', 'general.']\n"
          ]
        },
        {
          "output_type": "stream",
          "name": "stderr",
          "text": [
            "[nltk_data] Downloading package stopwords to /root/nltk_data...\n",
            "[nltk_data]   Unzipping corpora/stopwords.zip.\n"
          ]
        }
      ]
    },
    {
      "cell_type": "code",
      "source": [
        "filtered_words = [w for w in words if not w.lower() in stopwords.words('english')]\n",
        "print(\"The most repeated word is now \\\"\" + max(set(filtered_words), key=words.count) + \"\\\".\")"
      ],
      "metadata": {
        "colab": {
          "base_uri": "https://localhost:8080/"
        },
        "id": "dWSpubQrHMey",
        "outputId": "f6de9ef7-756b-4a91-f996-50ad60486344"
      },
      "execution_count": null,
      "outputs": [
        {
          "output_type": "stream",
          "name": "stdout",
          "text": [
            "The most repeated word is now \"document\".\n"
          ]
        }
      ]
    }
  ]
}