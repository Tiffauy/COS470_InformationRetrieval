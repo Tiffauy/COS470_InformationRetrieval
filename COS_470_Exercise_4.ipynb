{
  "nbformat": 4,
  "nbformat_minor": 0,
  "metadata": {
    "colab": {
      "provenance": [],
      "collapsed_sections": []
    },
    "kernelspec": {
      "name": "python3",
      "display_name": "Python 3"
    },
    "language_info": {
      "name": "python"
    }
  },
  "cells": [
    {
      "cell_type": "markdown",
      "source": [
        "# Exercise 4: Reading XML Files"
      ],
      "metadata": {
        "id": "UMZswifQFExd"
      }
    },
    {
      "cell_type": "code",
      "execution_count": null,
      "metadata": {
        "id": "taeizzBNEYGm"
      },
      "outputs": [],
      "source": [
        "from post_parser_record import PostParserRecord\n",
        "post_reader = PostParserRecord(\"Posts_Coffee.xml\")"
      ]
    },
    {
      "cell_type": "markdown",
      "source": [
        "A. How many questions/answers have been posted on the website?"
      ],
      "metadata": {
        "id": "I_aMA_YWF0X9"
      }
    },
    {
      "cell_type": "code",
      "source": [
        "print(\"There have been\", len(post_reader.map_questions), \"number of questions\")\n",
        "print(\"There have been\", len(post_reader.map_answers), \"number of answers\")"
      ],
      "metadata": {
        "colab": {
          "base_uri": "https://localhost:8080/"
        },
        "id": "ZvtJ-5lVF7os",
        "outputId": "45828c27-ed51-4102-afcc-2455ade6ef7e"
      },
      "execution_count": null,
      "outputs": [
        {
          "output_type": "stream",
          "name": "stdout",
          "text": [
            "There have been 1370 number of questions\n",
            "There have been 1280 number of answers\n"
          ]
        }
      ]
    },
    {
      "cell_type": "markdown",
      "source": [
        "B. How many questions have accepted answers?"
      ],
      "metadata": {
        "id": "gfuFbRbwGK_7"
      }
    },
    {
      "cell_type": "code",
      "source": [
        "accepted_answers = 0\n",
        "# go through every question and check if it has an accepted answer, add to list if so\n",
        "for answer_id in post_reader.map_questions:\n",
        "  if(post_reader.map_questions[answer_id].accepted_answer_id != None):\n",
        "    accepted_answers += 1\n",
        "\n",
        "print(str(accepted_answers) + \" questions have accepted answers.\")"
      ],
      "metadata": {
        "id": "EP7wHhx1GKwl",
        "colab": {
          "base_uri": "https://localhost:8080/"
        },
        "outputId": "020c40c6-8c6e-4e0d-8fb7-d2c3bbb1d244"
      },
      "execution_count": null,
      "outputs": [
        {
          "output_type": "stream",
          "name": "stdout",
          "text": [
            "651 questions have accepted answers.\n"
          ]
        }
      ]
    },
    {
      "cell_type": "markdown",
      "source": [
        "C. What is the highest and lowest score given to the questions?"
      ],
      "metadata": {
        "id": "4ewcHZgMHGDF"
      }
    },
    {
      "cell_type": "code",
      "source": [
        "# default highests and lowests\n",
        "lowest_id = -1\n",
        "highest_id = -1\n",
        "lowest_score = 100\n",
        "highest_score = 0\n",
        "\n",
        "# search every question and whether it is higher/lower than our current high/low\n",
        "for answer_id in post_reader.map_questions:\n",
        "  question = post_reader.map_questions[answer_id]\n",
        "  if question.score > highest_score:\n",
        "    highest_score = question.score\n",
        "    highest_id = answer_id\n",
        "  if question.score < lowest_score:\n",
        "    lowest_score = question.score\n",
        "    lowest_id = answer_id\n",
        "\n",
        "print(\"Question number \" + str(lowest_id) + \" has the lowest score of \" + str(lowest_score))\n",
        "print(\"Question number \" + str(highest_id) + \" has the highest score of \" + str(highest_score))"
      ],
      "metadata": {
        "id": "_qORFs-3IjYA",
        "colab": {
          "base_uri": "https://localhost:8080/"
        },
        "outputId": "1d97cd8d-168b-4219-d6f3-f33c816365a5"
      },
      "execution_count": null,
      "outputs": [
        {
          "output_type": "stream",
          "name": "stdout",
          "text": [
            "Question number 3095 has the lowest score of -3\n",
            "Question number 79 has the highest score of 66\n"
          ]
        }
      ]
    },
    {
      "cell_type": "markdown",
      "source": [
        "D. What is the average number of words in answers?"
      ],
      "metadata": {
        "id": "Iyxtc6F0HG7u"
      }
    },
    {
      "cell_type": "code",
      "source": [
        "number_answers = len(post_reader.map_just_answers.keys())\n",
        "number_words = 0\n",
        "# loop through every answer in the map via answer_id\n",
        "for answer_id in post_reader.map_just_answers:\n",
        "  answer = post_reader.map_just_answers[answer_id]\n",
        "  number_words += len(answer.body.split(\" \"))\n",
        "\n",
        "print(\"The average number of words in each answer is: \" + str(number_words/number_answers))"
      ],
      "metadata": {
        "colab": {
          "base_uri": "https://localhost:8080/"
        },
        "id": "Q3-DMVpbHKkA",
        "outputId": "16aa92a6-7219-45cf-faaf-fc6bf1c5208c"
      },
      "execution_count": null,
      "outputs": [
        {
          "output_type": "stream",
          "name": "stdout",
          "text": [
            "The average number of words in each answer is: 157.08919319022945\n"
          ]
        }
      ]
    },
    {
      "cell_type": "markdown",
      "source": [
        "E. In which year, the highest number of posts (both questions and answers) were posted?"
      ],
      "metadata": {
        "id": "ZtlOwD2uIVZu"
      }
    },
    {
      "cell_type": "code",
      "source": [
        "# make dictionary where year is key, and value is number of posts\n",
        "yearpost_counter = {}\n",
        "\n",
        "# iterate through all the questions first\n",
        "for post_id in post_reader.map_questions:\n",
        "  year = post_reader.map_questions[post_id].creation_date.split(\"-\")[0]\n",
        "  # check if dictionary already has the year; default to 1 if not\n",
        "  if year in yearpost_counter:\n",
        "    yearpost_counter[year] += 1\n",
        "  else:\n",
        "    yearpost_counter[year] = 1\n",
        "\n",
        "# iterate through all the answers after\n",
        "for post_id in post_reader.map_just_answers:\n",
        "  year = post_reader.map_just_answers[post_id].creation_date.split(\"-\")[0]\n",
        "  # check if dictionary already has the year; default to 1 if not\n",
        "  if year in yearpost_counter:\n",
        "    yearpost_counter[year] += 1\n",
        "  else:\n",
        "    yearpost_counter[year] = 1\n",
        "\n",
        "print(\"The highest number of posts occurred in the year \" + list(yearpost_counter)[0] + \".\")"
      ],
      "metadata": {
        "id": "1fMtgPjfI7_J",
        "colab": {
          "base_uri": "https://localhost:8080/"
        },
        "outputId": "bf711e1b-7183-4a2c-b375-e87075728631"
      },
      "execution_count": null,
      "outputs": [
        {
          "output_type": "stream",
          "name": "stdout",
          "text": [
            "The highest number of posts occurred in the year 2015.\n"
          ]
        }
      ]
    }
  ]
}